{
 "cells": [
  {
   "cell_type": "code",
   "execution_count": 1,
   "metadata": {},
   "outputs": [
    {
     "name": "stdout",
     "output_type": "stream",
     "text": [
      "2.2.0\n"
     ]
    }
   ],
   "source": [
    "import tensorflow as tf\n",
    "print(tf.__version__)\n",
    "\n",
    "physical_device = tf.config.experimental.list_physical_devices(\"GPU\")\n",
    "if len(physical_device) > 0:\n",
    "    tf.config.experimental.set_memory_growth(physical_device[0], True)"
   ]
  },
  {
   "cell_type": "code",
   "execution_count": 2,
   "metadata": {},
   "outputs": [],
   "source": [
    "from sklearn.datasets import load_diabetes\n",
    "\n",
    "diabetes_dataset = load_diabetes()"
   ]
  },
  {
   "cell_type": "code",
   "execution_count": 3,
   "metadata": {},
   "outputs": [],
   "source": [
    "from sklearn.model_selection import train_test_split\n",
    "\n",
    "data = diabetes_dataset['data']\n",
    "targets = diabetes_dataset['target']\n",
    "\n",
    "train_data, test_data, train_targets, test_targets = train_test_split(data, targets,\n",
    "                                                                      test_size=0.1)"
   ]
  },
  {
   "cell_type": "code",
   "execution_count": 4,
   "metadata": {},
   "outputs": [],
   "source": [
    "from tensorflow.keras.models import Sequential\n",
    "from tensorflow.keras.layers import Dense\n",
    "\n",
    "model = tf.keras.Sequential([\n",
    "    Dense(128, activation='relu', input_shape=(train_data.shape[1],)),\n",
    "    Dense(64,activation='relu'),\n",
    "    tf.keras.layers.BatchNormalization(),\n",
    "    Dense(64, activation='relu'),\n",
    "    Dense(64, activation='relu'),\n",
    "    Dense(1)        \n",
    "])"
   ]
  },
  {
   "cell_type": "code",
   "execution_count": 5,
   "metadata": {},
   "outputs": [],
   "source": [
    "model.compile(loss='mse', optimizer='adam', metrics=['mae'])"
   ]
  },
  {
   "cell_type": "code",
   "execution_count": 6,
   "metadata": {},
   "outputs": [],
   "source": [
    "class LossAndMetricCallback(tf.keras.callbacks.Callback):\n",
    "    \n",
    "    def on_train_batch_end(self, batch, logs=None):\n",
    "        if batch % 2 == 0:\n",
    "            print(\"\\nAfter batch {}, the loss if {:7.2f}\".format(batch, logs['loss']))\n",
    "            \n",
    "    def on_test_batch_end(self, batch, logs=None):\n",
    "        print(\"\\nAfter batch {}, the loss is {:7.2f}.\".format(batch, logs['loss']))\n",
    "        \n",
    "    def on_epoch_end(self, epoch, logs=None):\n",
    "        print(\"Epoch {}: Average loss is {:7.2f}, mean absolute error is {:7.2f}\"\n",
    "              .format(epoch, logs['loss'], logs['mae']))\n",
    "        \n",
    "    def on_predict_batch_end(self, batch, logs=None):\n",
    "        print(\"Finished prediction on batch {}!\".format(batch))"
   ]
  },
  {
   "cell_type": "code",
   "execution_count": 7,
   "metadata": {},
   "outputs": [
    {
     "name": "stdout",
     "output_type": "stream",
     "text": [
      "\n",
      "After batch 0, the loss if 27110.17\n",
      "\n",
      "After batch 2, the loss if 28529.85\n",
      "Epoch 0: Average loss is 28857.97, mean absolute error is  151.06\n",
      "\n",
      "After batch 0, the loss if 29333.53\n",
      "\n",
      "After batch 2, the loss if 28591.56\n",
      "Epoch 1: Average loss is 28702.55, mean absolute error is  150.58\n",
      "\n",
      "After batch 0, the loss if 25302.54\n",
      "\n",
      "After batch 2, the loss if 26387.81\n",
      "Epoch 2: Average loss is 28482.02, mean absolute error is  149.89\n",
      "\n",
      "After batch 0, the loss if 29307.05\n",
      "\n",
      "After batch 2, the loss if 28501.51\n",
      "Epoch 3: Average loss is 28171.96, mean absolute error is  148.90\n",
      "\n",
      "After batch 0, the loss if 31951.68\n",
      "\n",
      "After batch 2, the loss if 28458.75\n",
      "Epoch 4: Average loss is 27752.76, mean absolute error is  147.53\n",
      "\n",
      "After batch 0, the loss if 28611.94\n",
      "\n",
      "After batch 2, the loss if 27357.81\n",
      "Epoch 5: Average loss is 27188.08, mean absolute error is  145.67\n",
      "\n",
      "After batch 0, the loss if 30828.41\n",
      "\n",
      "After batch 2, the loss if 26878.98\n",
      "Epoch 6: Average loss is 26475.77, mean absolute error is  143.27\n",
      "\n",
      "After batch 0, the loss if 26897.82\n",
      "\n",
      "After batch 2, the loss if 26610.50\n",
      "Epoch 7: Average loss is 25551.12, mean absolute error is  140.12\n",
      "\n",
      "After batch 0, the loss if 21904.29\n",
      "\n",
      "After batch 2, the loss if 24230.62\n",
      "Epoch 8: Average loss is 24374.70, mean absolute error is  136.07\n",
      "\n",
      "After batch 0, the loss if 25178.66\n",
      "\n",
      "After batch 2, the loss if 22533.04\n",
      "Epoch 9: Average loss is 22973.34, mean absolute error is  130.94\n",
      "\n",
      "After batch 0, the loss if 22507.74\n",
      "\n",
      "After batch 2, the loss if 21511.23\n",
      "Epoch 10: Average loss is 21271.14, mean absolute error is  124.66\n",
      "\n",
      "After batch 0, the loss if 20107.03\n",
      "\n",
      "After batch 2, the loss if 19729.72\n",
      "Epoch 11: Average loss is 19403.39, mean absolute error is  117.27\n",
      "\n",
      "After batch 0, the loss if 20893.44\n",
      "\n",
      "After batch 2, the loss if 17527.53\n",
      "Epoch 12: Average loss is 17180.76, mean absolute error is  108.76\n",
      "\n",
      "After batch 0, the loss if 16910.62\n",
      "\n",
      "After batch 2, the loss if 15917.47\n",
      "Epoch 13: Average loss is 14990.52, mean absolute error is   99.84\n",
      "\n",
      "After batch 0, the loss if 12532.47\n",
      "\n",
      "After batch 2, the loss if 12731.82\n",
      "Epoch 14: Average loss is 12651.56, mean absolute error is   90.53\n",
      "\n",
      "After batch 0, the loss if 13302.20\n",
      "\n",
      "After batch 2, the loss if 11847.67\n",
      "Epoch 15: Average loss is 10780.08, mean absolute error is   82.56\n",
      "\n",
      "After batch 0, the loss if 6307.08\n",
      "\n",
      "After batch 2, the loss if 8886.90\n",
      "Epoch 16: Average loss is 9032.22, mean absolute error is   75.16\n",
      "\n",
      "After batch 0, the loss if 11040.73\n",
      "\n",
      "After batch 2, the loss if 9150.61\n",
      "Epoch 17: Average loss is 8227.71, mean absolute error is   71.18\n",
      "\n",
      "After batch 0, the loss if 7874.36\n",
      "\n",
      "After batch 2, the loss if 7099.52\n",
      "Epoch 18: Average loss is 7269.03, mean absolute error is   67.74\n",
      "\n",
      "After batch 0, the loss if 8044.99\n",
      "\n",
      "After batch 2, the loss if 6664.28\n",
      "Epoch 19: Average loss is 6806.42, mean absolute error is   64.54\n"
     ]
    }
   ],
   "source": [
    "history = model.fit(train_data, train_targets, epochs=20, batch_size=100,\n",
    "                    callbacks=[LossAndMetricCallback()], verbose=False)"
   ]
  },
  {
   "cell_type": "code",
   "execution_count": 8,
   "metadata": {},
   "outputs": [
    {
     "name": "stdout",
     "output_type": "stream",
     "text": [
      "\n",
      "After batch 0, the loss is 15574.69.\n",
      "\n",
      "After batch 1, the loss is 15942.19.\n",
      "\n",
      "After batch 2, the loss is 17137.45.\n",
      "\n",
      "After batch 3, the loss is 17275.53.\n",
      "\n",
      "After batch 4, the loss is 18912.10.\n"
     ]
    }
   ],
   "source": [
    "model_eval = model.evaluate(test_data, test_targets, batch_size=10, \n",
    "                            callbacks=[LossAndMetricCallback()], verbose=False)"
   ]
  },
  {
   "cell_type": "code",
   "execution_count": 9,
   "metadata": {},
   "outputs": [
    {
     "name": "stdout",
     "output_type": "stream",
     "text": [
      "Finished prediction on batch 0!\n",
      "Finished prediction on batch 1!\n",
      "Finished prediction on batch 2!\n",
      "Finished prediction on batch 3!\n",
      "Finished prediction on batch 4!\n"
     ]
    }
   ],
   "source": [
    "model_pred = model.predict(test_data, batch_size=10,\n",
    "                           callbacks=[LossAndMetricCallback()], verbose=False)"
   ]
  },
  {
   "cell_type": "code",
   "execution_count": 10,
   "metadata": {},
   "outputs": [],
   "source": [
    "lr_schedule = [(4, 0.003), (7, 0.02), (11, 0.005), (15, 0.007)]\n",
    "\n",
    "def get_new_epoch_lr(epoch, lr):\n",
    "    \n",
    "    epoch_in_schedule = [i for i in range(len(lr_schedule)) if lr_schedule[i][0] == int(epoch)]\n",
    "    if len(epoch_in_schedule) > 0:\n",
    "        return lr_schedule[epoch_in_schedule[0]][1]\n",
    "    \n",
    "    else:\n",
    "        return lr"
   ]
  },
  {
   "cell_type": "code",
   "execution_count": 11,
   "metadata": {},
   "outputs": [
    {
     "ename": "SyntaxError",
     "evalue": "invalid syntax (<ipython-input-11-167878ef26ce>, line 3)",
     "output_type": "error",
     "traceback": [
      "\u001b[0;36m  File \u001b[0;32m\"<ipython-input-11-167878ef26ce>\"\u001b[0;36m, line \u001b[0;32m3\u001b[0m\n\u001b[0;31m    super.(LRScheduler, self).__init__()\u001b[0m\n\u001b[0m          ^\u001b[0m\n\u001b[0;31mSyntaxError\u001b[0m\u001b[0;31m:\u001b[0m invalid syntax\n"
     ]
    }
   ],
   "source": [
    "class LRScheduler(tf.keras.callbacks.Callback):\n",
    "    def __init__(self, new_lr):\n",
    "        super.(LRScheduler, self).__init__()\n",
    "        self.new_lr = new_lr\n",
    "        \n",
    "    def on_epoch_begin(self, epoch, logs=None):\n",
    "        if not hasattr(self.model.optimizer, 'lr'):\n",
    "            raise ValueError(\"Error: Optimizer does not have a learning rate\")\n",
    "            \n",
    "        curr_rate = float(tf.keras.backend.get_value(self.model.optimizer.lr))\n",
    "        scheduled_rate = self.new_lr(epoch, curr_rate)\n",
    "        \n",
    "        tf.keras.backend.set_value(self.model.optimizer.lr, scheduled_rate)\n",
    "        print(\"Learning rate for epoch {} is {:.3f}\".format(epoch, scheduled_rate))"
   ]
  },
  {
   "cell_type": "code",
   "execution_count": null,
   "metadata": {},
   "outputs": [],
   "source": []
  }
 ],
 "metadata": {
  "kernelspec": {
   "display_name": "Python 3",
   "language": "python",
   "name": "python3"
  },
  "language_info": {
   "codemirror_mode": {
    "name": "ipython",
    "version": 3
   },
   "file_extension": ".py",
   "mimetype": "text/x-python",
   "name": "python",
   "nbconvert_exporter": "python",
   "pygments_lexer": "ipython3",
   "version": "3.7.7"
  }
 },
 "nbformat": 4,
 "nbformat_minor": 4
}
