{
 "cells": [
  {
   "cell_type": "markdown",
   "metadata": {
    "colab_type": "text",
    "id": "Crtnb3v_-QN8"
   },
   "source": [
    "# Programming Assignment"
   ]
  },
  {
   "cell_type": "markdown",
   "metadata": {
    "colab_type": "text",
    "id": "H5lhOgL2-QN9"
   },
   "source": [
    "## Model validation on the Iris dataset"
   ]
  },
  {
   "cell_type": "markdown",
   "metadata": {
    "colab_type": "text",
    "id": "3mu5pYMU-QN-"
   },
   "source": [
    "### Instructions\n",
    "\n",
    "In this notebook, you will build, compile and fit a neural network model to the Iris dataset. You will also implement validation, regularisation and callbacks to improve your model.\n",
    "\n",
    "Some code cells are provided you in the notebook. You should avoid editing provided code, and make sure to execute the cells in order to avoid unexpected errors. Some cells begin with the line: \n",
    "\n",
    "`#### GRADED CELL ####`\n",
    "\n",
    "Don't move or edit this first line - this is what the automatic grader looks for to recognise graded cells. These cells require you to write your own code to complete them, and are automatically graded when you submit the notebook. Don't edit the function name or signature provided in these cells, otherwise the automatic grader might not function properly. Inside these graded cells, you can use any functions or classes that are imported below, but make sure you don't use any variables that are outside the scope of the function.\n",
    "\n",
    "### How to submit\n",
    "\n",
    "Complete all the tasks you are asked for in the worksheet. When you have finished and are happy with your code, press the **Submit Assignment** button at the top of this notebook.\n",
    "\n",
    "### Let's get started!\n",
    "\n",
    "We'll start running some imports, and loading the dataset. Do not edit the existing imports in the following cell. If you would like to make further Tensorflow imports, you should add them here."
   ]
  },
  {
   "cell_type": "code",
   "execution_count": 1,
   "metadata": {
    "colab": {},
    "colab_type": "code",
    "id": "TcJ88o-A-QOA"
   },
   "outputs": [],
   "source": [
    "#### PACKAGE IMPORTS ####\n",
    "\n",
    "# Run this cell first to import all required packages. Do not make any imports elsewhere in the notebook\n",
    "from numpy.random import seed\n",
    "seed(8)\n",
    "import tensorflow as tf\n",
    "import numpy as np\n",
    "import matplotlib.pyplot as plt\n",
    "from sklearn import datasets, model_selection \n",
    "%matplotlib inline\n",
    "\n",
    "# If you would like to make further imports from tensorflow, add them here\n",
    "\n"
   ]
  },
  {
   "cell_type": "code",
   "execution_count": 2,
   "metadata": {},
   "outputs": [],
   "source": [
    "physical_device = tf.config.experimental.list_physical_devices(\"GPU\")\n",
    "if len(physical_device) > 0:\n",
    "    tf.config.experimental.set_memory_growth(physical_device[0], True)"
   ]
  },
  {
   "cell_type": "markdown",
   "metadata": {
    "colab_type": "text",
    "id": "FVxBqpU_-QOF"
   },
   "source": [
    "#### The Iris dataset\n",
    "\n",
    "In this assignment, you will use the [Iris dataset](https://scikit-learn.org/stable/auto_examples/datasets/plot_iris_dataset.html). It consists of 50 samples from each of three species of Iris (Iris setosa, Iris virginica and Iris versicolor). Four features were measured from each sample: the length and the width of the sepals and petals, in centimeters. For a reference, see the following papers:\n",
    "\n",
    "- R. A. Fisher. \"The use of multiple measurements in taxonomic problems\". Annals of Eugenics. 7 (2): 179–188, 1936.\n",
    "\n",
    "Your goal is to construct a neural network that classifies each sample into the correct class, as well as applying validation and regularisation techniques."
   ]
  },
  {
   "cell_type": "markdown",
   "metadata": {
    "colab_type": "text",
    "id": "BcDc7CXG-QOG"
   },
   "source": [
    "#### Load and preprocess the data\n",
    "\n",
    "First read in the Iris dataset using `datasets.load_iris()`, and split the dataset into training and test sets."
   ]
  },
  {
   "cell_type": "code",
   "execution_count": 3,
   "metadata": {},
   "outputs": [
    {
     "data": {
      "text/plain": [
       "dict_keys(['data', 'target', 'frame', 'target_names', 'DESCR', 'feature_names', 'filename'])"
      ]
     },
     "execution_count": 3,
     "metadata": {},
     "output_type": "execute_result"
    }
   ],
   "source": [
    "data = datasets.load_iris()\n",
    "data.keys()"
   ]
  },
  {
   "cell_type": "code",
   "execution_count": 4,
   "metadata": {
    "colab": {},
    "colab_type": "code",
    "id": "2QCdzIiC-QOH"
   },
   "outputs": [],
   "source": [
    "#### GRADED CELL ####\n",
    "\n",
    "# Complete the following function. \n",
    "# Make sure to not change the function name or arguments.\n",
    "\n",
    "def read_in_and_split_data(iris_data):\n",
    "    \"\"\"\n",
    "    This function takes the Iris dataset as loaded by sklearn.datasets.load_iris(), and then \n",
    "    splits so that the training set includes 90% of the full dataset, with the test set \n",
    "    making up the remaining 10%.\n",
    "    Your function should return a tuple (train_data, test_data, train_targets, test_targets) \n",
    "    of appropriately split training and test data and targets.\n",
    "    \n",
    "    If you would like to import any further packages to aid you in this task, please do so in the \n",
    "    Package Imports cell above.\n",
    "    \"\"\"\n",
    "    iris = datasets.load_iris()\n",
    "    data = iris['data']\n",
    "    targets = iris['target']\n",
    "    train_data, test_data, train_targets, test_targets = model_selection.train_test_split(data, targets, test_size=0.1)\n",
    "    \n",
    "    return (train_data, test_data, train_targets, test_targets)\n",
    "    "
   ]
  },
  {
   "cell_type": "code",
   "execution_count": 5,
   "metadata": {
    "colab": {},
    "colab_type": "code",
    "id": "TVTDnj1W-QOJ"
   },
   "outputs": [],
   "source": [
    "# Run your function to generate the test and training data.\n",
    "\n",
    "iris_data = datasets.load_iris()\n",
    "train_data, test_data, train_targets, test_targets = read_in_and_split_data(iris_data)"
   ]
  },
  {
   "cell_type": "code",
   "execution_count": 12,
   "metadata": {},
   "outputs": [
    {
     "data": {
      "text/plain": [
       "135"
      ]
     },
     "execution_count": 12,
     "metadata": {},
     "output_type": "execute_result"
    }
   ],
   "source": [
    "train_data.shape[0]"
   ]
  },
  {
   "cell_type": "markdown",
   "metadata": {
    "colab_type": "text",
    "id": "7i_TGqos-QON"
   },
   "source": [
    "We will now convert the training and test targets using a one hot encoder."
   ]
  },
  {
   "cell_type": "code",
   "execution_count": 6,
   "metadata": {
    "colab": {},
    "colab_type": "code",
    "id": "uolvGsLl-QOO"
   },
   "outputs": [],
   "source": [
    "# Convert targets to a one-hot encoding\n",
    "\n",
    "train_targets = tf.keras.utils.to_categorical(np.array(train_targets))\n",
    "test_targets = tf.keras.utils.to_categorical(np.array(test_targets))"
   ]
  },
  {
   "cell_type": "markdown",
   "metadata": {
    "colab_type": "text",
    "id": "V6i8xjbh-QOR"
   },
   "source": [
    "#### Build the neural network model\n"
   ]
  },
  {
   "cell_type": "markdown",
   "metadata": {
    "colab_type": "text",
    "id": "oDQeTk4u-QOT"
   },
   "source": [
    "You can now construct a model to fit to the data. Using the Sequential API, build your model according to the following specifications:\n",
    "\n",
    "* The model should use the `input_shape` in the function argument to set the input size in the first layer.\n",
    "* The first layer should be a dense layer with 64 units.\n",
    "* The weights of the first layer should be initialised with the He uniform initializer.\n",
    "* The biases of the first layer should be all initially equal to one.\n",
    "* There should then be a further four dense layers, each with 128 units.\n",
    "* This should be followed with four dense layers, each with 64 units.\n",
    "* All of these Dense layers should use the ReLU activation function.\n",
    "* The output Dense layer should have 3 units and the softmax activation function.\n",
    "\n",
    "In total, the network should have 10 layers."
   ]
  },
  {
   "cell_type": "code",
   "execution_count": 13,
   "metadata": {
    "colab": {},
    "colab_type": "code",
    "id": "vOCmCe2l-QOU"
   },
   "outputs": [],
   "source": [
    "#### GRADED CELL ####\n",
    "\n",
    "# Complete the following function. \n",
    "# Make sure to not change the function name or arguments.\n",
    "\n",
    "def get_model(input_shape):\n",
    "    \"\"\"\n",
    "    This function should build a Sequential model according to the above specification. Ensure the \n",
    "    weights are initialised by providing the input_shape argument in the first layer, given by the\n",
    "    function argument.\n",
    "    Your function should return the model.\n",
    "    \"\"\"\n",
    "    model = tf.keras.Sequential([\n",
    "        tf.keras.layers.Dense(64, activation='relu', input_shape=input_shape, \n",
    "                              kernel_initializer='he_uniform', bias_initializer='ones'),\n",
    "        \n",
    "        tf.keras.layers.Dense(128, activation='relu', kernel_initializer='he_uniform', \n",
    "                              bias_initializer='ones'),\n",
    "        tf.keras.layers.Dense(128, activation='relu', kernel_initializer='he_uniform', \n",
    "                              bias_initializer='ones'),\n",
    "        tf.keras.layers.Dense(128, activation='relu', kernel_initializer='he_uniform', \n",
    "                              bias_initializer='ones'),\n",
    "        tf.keras.layers.Dense(128, activation='relu', kernel_initializer='he_uniform', \n",
    "                              bias_initializer='ones'),\n",
    "        \n",
    "        tf.keras.layers.Dense(64, activation='relu', kernel_initializer='he_uniform', \n",
    "                              bias_initializer='ones'),\n",
    "        tf.keras.layers.Dense(64, activation='relu', kernel_initializer='he_uniform', \n",
    "                              bias_initializer='ones'),\n",
    "        tf.keras.layers.Dense(64, activation='relu', kernel_initializer='he_uniform', \n",
    "                              bias_initializer='ones'),\n",
    "        tf.keras.layers.Dense(64, activation='relu', kernel_initializer='he_uniform', \n",
    "                              bias_initializer='ones'),\n",
    "        \n",
    "        tf.keras.layers.Dense(3, activation='softmax', kernel_initializer='he_uniform', \n",
    "                              bias_initializer='ones')\n",
    "    ])\n",
    "    return model"
   ]
  },
  {
   "cell_type": "code",
   "execution_count": 14,
   "metadata": {
    "colab": {},
    "colab_type": "code",
    "id": "bEnEugVV-QOX"
   },
   "outputs": [],
   "source": [
    "# Run your function to get the model\n",
    "\n",
    "model = get_model(train_data[0].shape)"
   ]
  },
  {
   "cell_type": "markdown",
   "metadata": {
    "colab_type": "text",
    "id": "BC0h-ud1-QOa"
   },
   "source": [
    "#### Compile the model\n",
    "\n",
    "You should now compile the model using the `compile` method. Remember that you need to specify an optimizer, a loss function and a metric to judge the performance of your model."
   ]
  },
  {
   "cell_type": "code",
   "execution_count": 15,
   "metadata": {
    "colab": {},
    "colab_type": "code",
    "id": "ReHF4llc-QOa"
   },
   "outputs": [],
   "source": [
    "#### GRADED CELL ####\n",
    "\n",
    "# Complete the following function. \n",
    "# Make sure to not change the function name or arguments.\n",
    "\n",
    "def compile_model(model):\n",
    "    \"\"\"\n",
    "    This function takes in the model returned from your get_model function, and compiles it with an optimiser,\n",
    "    loss function and metric.\n",
    "    Compile the model using the Adam optimiser (with learning rate set to 0.0001), \n",
    "    the categorical crossentropy loss function and accuracy as the only metric. \n",
    "    Your function doesn't need to return anything; the model will be compiled in-place.\n",
    "    \"\"\"\n",
    "    model.compile(optimizer=tf.keras.optimizers.Adam(lr=0.0001),\n",
    "                  loss = 'categorical_crossentropy',\n",
    "                  metrics=['accuracy'])\n",
    "    "
   ]
  },
  {
   "cell_type": "code",
   "execution_count": 16,
   "metadata": {
    "colab": {},
    "colab_type": "code",
    "id": "7qJOJunW-QOd"
   },
   "outputs": [],
   "source": [
    "# Run your function to compile the model\n",
    "\n",
    "compile_model(model)"
   ]
  },
  {
   "cell_type": "markdown",
   "metadata": {
    "colab_type": "text",
    "id": "OWxL16Hk-QOh"
   },
   "source": [
    "#### Fit the model to the training data\n",
    "\n",
    "Now you should train the model on the Iris dataset, using the model's `fit` method. \n",
    "* Run the training for a fixed number of epochs, given by the function's `epochs` argument.\n",
    "* Return the training history to be used for plotting the learning curves.\n",
    "* Set the batch size to 40.\n",
    "* Set the validation set to be 15% of the training set.\n"
   ]
  },
  {
   "cell_type": "code",
   "execution_count": 25,
   "metadata": {
    "colab": {},
    "colab_type": "code",
    "id": "MYTwJVXq-QOi"
   },
   "outputs": [],
   "source": [
    "#### GRADED CELL ####\n",
    "\n",
    "# Complete the following function. \n",
    "# Make sure to not change the function name or arguments.\n",
    "\n",
    "def train_model(model, train_data, train_targets, epochs):\n",
    "    \"\"\"\n",
    "    This function should train the model for the given number of epochs on the \n",
    "    train_data and train_targets. \n",
    "    Your function should return the training history, as returned by model.fit.\n",
    "    \"\"\"\n",
    "    history = model.fit(train_data, train_targets, epochs=epochs,validation_split=0.15, batch_size=40, verbose=False)\n",
    "    \n",
    "    return history\n",
    "    "
   ]
  },
  {
   "cell_type": "code",
   "execution_count": 26,
   "metadata": {
    "colab": {},
    "colab_type": "code",
    "id": "MOE4iz_w-QOl"
   },
   "outputs": [],
   "source": [
    "# Run your function to train the model\n",
    "\n",
    "history = train_model(model, train_data, train_targets, epochs=800)"
   ]
  },
  {
   "cell_type": "markdown",
   "metadata": {
    "colab_type": "text",
    "id": "ssIHu5cM-QOn"
   },
   "source": [
    "#### Plot the learning curves\n",
    "\n",
    "We will now plot two graphs:\n",
    "* Epoch vs accuracy\n",
    "* Epoch vs loss\n"
   ]
  },
  {
   "cell_type": "code",
   "execution_count": 27,
   "metadata": {
    "colab": {},
    "colab_type": "code",
    "id": "JRFBWnUX-QOo"
   },
   "outputs": [
    {
     "data": {
      "image/png": "[encoded data removed]",
      "text/plain": [
       "<Figure size 432x288 with 1 Axes>"
      ]
     },
     "metadata": {
      "needs_background": "light"
     },
     "output_type": "display_data"
    }
   ],
   "source": [
    "#Run this cell to plot the epoch vs accuracy graph\n",
    "\n",
    "try:\n",
    "    plt.plot(history.history['accuracy'])\n",
    "    plt.plot(history.history['val_accuracy'])\n",
    "except KeyError:\n",
    "    plt.plot(history.history['acc'])\n",
    "    plt.plot(history.history['val_acc'])\n",
    "plt.title('Accuracy vs. epochs')\n",
    "plt.ylabel('Loss')\n",
    "plt.xlabel('Epoch')\n",
    "plt.legend(['Training', 'Validation'], loc='lower right')\n",
    "plt.show() "
   ]
  },
  {
   "cell_type": "code",
   "execution_count": 28,
   "metadata": {
    "colab": {},
    "colab_type": "code",
    "id": "tj0Ir6Sr-QOq"
   },
   "outputs": [
    {
     "data": {
      "image/png": "[encoded data removed]",
      "text/plain": [
       "<Figure size 432x288 with 1 Axes>"
      ]
     },
     "metadata": {
      "needs_background": "light"
     },
     "output_type": "display_data"
    }
   ],
   "source": [
    "#Run this cell to plot the epoch vs loss graph\n",
    "plt.plot(history.history['loss'])\n",
    "plt.plot(history.history['val_loss'])\n",
    "plt.title('Loss vs. epochs')\n",
    "plt.ylabel('Loss')\n",
    "plt.xlabel('Epoch')\n",
    "plt.legend(['Training', 'Validation'], loc='upper right')\n",
    "plt.show() "
   ]
  },
  {
   "cell_type": "markdown",
   "metadata": {
    "colab_type": "text",
    "id": "qrsUWJwj-QOr"
   },
   "source": [
    "Oh no! We have overfit our dataset. You should now try to now try to mitigate this overfitting."
   ]
  },
  {
   "cell_type": "markdown",
   "metadata": {
    "colab_type": "text",
    "id": "R6N_uo6m-QOs"
   },
   "source": [
    "#### Reducing overfitting in the model"
   ]
  },
  {
   "cell_type": "markdown",
   "metadata": {
    "colab_type": "text",
    "id": "BGME_x9a-QOs"
   },
   "source": [
    "You should now define a new regularised model.\n",
    "The specs for the regularised model are the same as our original model, with the addition of two dropout layers, weight decay, and a batch normalisation layer. \n",
    "\n",
    "In particular:\n",
    "\n",
    "* Add a dropout layer after the 3rd Dense layer\n",
    "* Then there should be two more Dense layers with 128 units before a batch normalisation layer\n",
    "* Following this, two more Dense layers with 64 units and then another Dropout layer\n",
    "* Two more Dense layers with 64 units and then the final 3-way softmax layer\n",
    "* Add weight decay (l2 kernel regularisation) in all Dense layers except the final softmax layer"
   ]
  },
  {
   "cell_type": "code",
   "execution_count": 48,
   "metadata": {
    "colab": {},
    "colab_type": "code",
    "id": "rYytfpmm-QOv"
   },
   "outputs": [],
   "source": [
    "#### GRADED CELL ####\n",
    "\n",
    "# Complete the following function. \n",
    "# Make sure to not change the function name or arguments.\n",
    "\n",
    "def get_regularised_model(input_shape, dropout_rate, weight_decay):\n",
    "    \"\"\"\n",
    "    This function should build a regularised Sequential model according to the above specification. \n",
    "    The dropout_rate argument in the function should be used to set the Dropout rate for all Dropout layers.\n",
    "    L2 kernel regularisation (weight decay) should be added using the weight_decay argument to \n",
    "    set the weight decay coefficient in all Dense layers that use L2 regularisation.\n",
    "    Ensure the weights are initialised by providing the input_shape argument in the first layer, given by the\n",
    "    function argument input_shape.\n",
    "    Your function should return the model.\n",
    "    \"\"\"\n",
    "    model = tf.keras.Sequential([\n",
    "        tf.keras.layers.Dense(64, activation='relu', input_shape=input_shape, \n",
    "                              kernel_initializer='he_uniform', bias_initializer='ones', kernel_regularizer = tf.keras.regularizers.l2(weight_decay)),\n",
    "        \n",
    "        tf.keras.layers.Dense(128, activation='relu', kernel_regularizer = tf.keras.regularizers.l2(weight_decay)),\n",
    "        tf.keras.layers.Dense(128, activation='relu', kernel_regularizer = tf.keras.regularizers.l2(weight_decay)),\n",
    "        tf.keras.layers.Dropout(dropout_rate),\n",
    "        tf.keras.layers.Dense(128, activation='relu', kernel_regularizer = tf.keras.regularizers.l2(weight_decay)),\n",
    "        tf.keras.layers.Dense(128, activation='relu', kernel_regularizer = tf.keras.regularizers.l2(weight_decay)),\n",
    "        tf.keras.layers.BatchNormalization(),\n",
    "        \n",
    "        tf.keras.layers.Dense(64, activation='relu', kernel_regularizer = tf.keras.regularizers.l2(weight_decay)),\n",
    "        tf.keras.layers.Dense(64, activation='relu', kernel_regularizer = tf.keras.regularizers.l2(weight_decay)),\n",
    "        tf.keras.layers.Dropout(dropout_rate),\n",
    "        tf.keras.layers.Dense(64, activation='relu', kernel_regularizer = tf.keras.regularizers.l2(weight_decay)),\n",
    "        tf.keras.layers.Dense(64, activation='relu', kernel_regularizer = tf.keras.regularizers.l2(weight_decay)),\n",
    "        \n",
    "        tf.keras.layers.Dense(3, activation='softmax')\n",
    "    ])\n",
    "    \n",
    "    return model\n",
    "    "
   ]
  },
  {
   "cell_type": "markdown",
   "metadata": {
    "colab_type": "text",
    "id": "qw79AOPy-QOx"
   },
   "source": [
    "#### Instantiate, compile and train the model"
   ]
  },
  {
   "cell_type": "code",
   "execution_count": 49,
   "metadata": {
    "colab": {},
    "colab_type": "code",
    "id": "iO8JYVXB-QOz"
   },
   "outputs": [],
   "source": [
    "# Instantiate the model, using a dropout rate of 0.3 and weight decay coefficient of 0.001\n",
    "\n",
    "reg_model = get_regularised_model(train_data[0].shape, 0.3, 0.001)"
   ]
  },
  {
   "cell_type": "code",
   "execution_count": 50,
   "metadata": {
    "colab": {},
    "colab_type": "code",
    "id": "nOEqCQ3I-QO2"
   },
   "outputs": [],
   "source": [
    "# Compile the model\n",
    "\n",
    "compile_model(reg_model)"
   ]
  },
  {
   "cell_type": "code",
   "execution_count": 51,
   "metadata": {
    "colab": {},
    "colab_type": "code",
    "id": "5Eg83stX-QO6"
   },
   "outputs": [],
   "source": [
    "# Train the model\n",
    "\n",
    "reg_history = train_model(reg_model, train_data, train_targets, epochs=800)"
   ]
  },
  {
   "cell_type": "markdown",
   "metadata": {
    "colab_type": "text",
    "id": "gccWcGCz-QO8"
   },
   "source": [
    "#### Plot the learning curves\n",
    "\n",
    "Let's now plot the loss and accuracy for the training and validation sets."
   ]
  },
  {
   "cell_type": "code",
   "execution_count": 52,
   "metadata": {
    "colab": {},
    "colab_type": "code",
    "id": "j8uieP3K-QO9"
   },
   "outputs": [
    {
     "data": {
      "image/png": "[encoded data removed]",
      "text/plain": [
       "<Figure size 432x288 with 1 Axes>"
      ]
     },
     "metadata": {
      "needs_background": "light"
     },
     "output_type": "display_data"
    }
   ],
   "source": [
    "#Run this cell to plot the new accuracy vs epoch graph\n",
    "\n",
    "try:\n",
    "    plt.plot(reg_history.history['accuracy'])\n",
    "    plt.plot(reg_history.history['val_accuracy'])\n",
    "except KeyError:\n",
    "    plt.plot(reg_history.history['acc'])\n",
    "    plt.plot(reg_history.history['val_acc'])\n",
    "plt.title('Accuracy vs. epochs')\n",
    "plt.ylabel('Loss')\n",
    "plt.xlabel('Epoch')\n",
    "plt.legend(['Training', 'Validation'], loc='lower right')\n",
    "plt.show() "
   ]
  },
  {
   "cell_type": "code",
   "execution_count": 53,
   "metadata": {
    "colab": {},
    "colab_type": "code",
    "id": "zpgy4mVP-QO_"
   },
   "outputs": [
    {
     "data": {
      "image/png": "[encoded data removed]",
      "text/plain": [
       "<Figure size 432x288 with 1 Axes>"
      ]
     },
     "metadata": {
      "needs_background": "light"
     },
     "output_type": "display_data"
    }
   ],
   "source": [
    "#Run this cell to plot the new loss vs epoch graph\n",
    "\n",
    "plt.plot(reg_history.history['loss'])\n",
    "plt.plot(reg_history.history['val_loss'])\n",
    "plt.title('Loss vs. epochs')\n",
    "plt.ylabel('Loss')\n",
    "plt.xlabel('Epoch')\n",
    "plt.legend(['Training', 'Validation'], loc='upper right')\n",
    "plt.show() "
   ]
  },
  {
   "cell_type": "markdown",
   "metadata": {
    "colab_type": "text",
    "id": "na0xiTpm-QPB"
   },
   "source": [
    "We can see that the regularisation has helped to reduce the overfitting of the network.\n",
    "You will now incorporate callbacks into a new training run that implements early stopping and learning rate reduction on plateaux.\n",
    "\n",
    "Fill in the function below so that:\n",
    "\n",
    "* It creates an `EarlyStopping` callback object and a `ReduceLROnPlateau` callback object\n",
    "* The early stopping callback is used and monitors validation loss with the mode set to `\"min\"` and patience of 30.\n",
    "* The learning rate reduction on plateaux is used with a learning rate factor of 0.2 and a patience of 20."
   ]
  },
  {
   "cell_type": "code",
   "execution_count": 54,
   "metadata": {
    "colab": {},
    "colab_type": "code",
    "id": "18JaoKcd-QPC"
   },
   "outputs": [],
   "source": [
    "#### GRADED CELL ####\n",
    "\n",
    "# Complete the following function. \n",
    "# Make sure to not change the function name or arguments.\n",
    "\n",
    "def get_callbacks():\n",
    "    \"\"\"\n",
    "    This function should create and return a tuple (early_stopping, learning_rate_reduction) callbacks.\n",
    "    The callbacks should be instantiated according to the above requirements.\n",
    "    \"\"\"\n",
    "    \n",
    "    early_stopping = tf.keras.callbacks.EarlyStopping(patience=30, monitor='val_loss', mode='min')\n",
    "    learning_rate_reduction= tf.keras.callbacks.ReduceLROnPlateau(monitor='val_loss', mode='min',\n",
    "                                                                        factor = 0.2, patience=20)\n",
    "    \n",
    "    \n",
    "    return (early_stopping, learning_rate_reduction)\n",
    "    "
   ]
  },
  {
   "cell_type": "markdown",
   "metadata": {
    "colab_type": "text",
    "id": "eqi6pF-v-QPD"
   },
   "source": [
    "Run the cell below to instantiate and train the regularised model with the callbacks."
   ]
  },
  {
   "cell_type": "code",
   "execution_count": 55,
   "metadata": {
    "colab": {},
    "colab_type": "code",
    "id": "emW-CYSd-QPE"
   },
   "outputs": [],
   "source": [
    "call_model = get_regularised_model(train_data[0].shape, 0.3, 0.0001)\n",
    "compile_model(call_model)\n",
    "early_stopping, learning_rate_reduction = get_callbacks()\n",
    "call_history = call_model.fit(train_data, train_targets, epochs=800, validation_split=0.15,\n",
    "                         callbacks=[early_stopping, learning_rate_reduction], verbose=0)"
   ]
  },
  {
   "cell_type": "code",
   "execution_count": 56,
   "metadata": {
    "colab": {},
    "colab_type": "code",
    "id": "DtuDazML-QPG"
   },
   "outputs": [
    {
     "data": {
      "text/plain": [
       "20"
      ]
     },
     "execution_count": 56,
     "metadata": {},
     "output_type": "execute_result"
    }
   ],
   "source": [
    "learning_rate_reduction.patience"
   ]
  },
  {
   "cell_type": "markdown",
   "metadata": {
    "colab_type": "text",
    "id": "8zhsqvtL-QPJ"
   },
   "source": [
    "Finally, let's replot the accuracy and loss graphs for our new model."
   ]
  },
  {
   "cell_type": "code",
   "execution_count": 57,
   "metadata": {
    "colab": {},
    "colab_type": "code",
    "id": "HOPSJT7w-QPJ"
   },
   "outputs": [
    {
     "data": {
      "image/png": "[encoded data removed]",
      "text/plain": [
       "<Figure size 432x288 with 1 Axes>"
      ]
     },
     "metadata": {
      "needs_background": "light"
     },
     "output_type": "display_data"
    }
   ],
   "source": [
    "try:\n",
    "    plt.plot(call_history.history['accuracy'])\n",
    "    plt.plot(call_history.history['val_accuracy'])\n",
    "except KeyError:\n",
    "    plt.plot(call_history.history['acc'])\n",
    "    plt.plot(call_history.history['val_acc'])\n",
    "plt.title('Accuracy vs. epochs')\n",
    "plt.ylabel('Accuracy')\n",
    "plt.xlabel('Epoch')\n",
    "plt.legend(['Training', 'Validation'], loc='lower right')\n",
    "plt.show() "
   ]
  },
  {
   "cell_type": "code",
   "execution_count": 58,
   "metadata": {
    "colab": {},
    "colab_type": "code",
    "id": "1w5NOgER-QPL"
   },
   "outputs": [
    {
     "data": {
      "image/png": "[encoded data removed]",
      "text/plain": [
       "<Figure size 432x288 with 1 Axes>"
      ]
     },
     "metadata": {
      "needs_background": "light"
     },
     "output_type": "display_data"
    }
   ],
   "source": [
    "plt.plot(call_history.history['loss'])\n",
    "plt.plot(call_history.history['val_loss'])\n",
    "plt.title('Loss vs. epochs')\n",
    "plt.ylabel('Loss')\n",
    "plt.xlabel('Epoch')\n",
    "plt.legend(['Training', 'Validation'], loc='upper right')\n",
    "plt.show() "
   ]
  },
  {
   "cell_type": "code",
   "execution_count": 59,
   "metadata": {
    "colab": {},
    "colab_type": "code",
    "id": "AsBmI_qM5CYh"
   },
   "outputs": [
    {
     "name": "stdout",
     "output_type": "stream",
     "text": [
      "Test loss: 0.169\n",
      "Test accuracy: 93.33%\n"
     ]
    }
   ],
   "source": [
    "# Evaluate the model on the test set\n",
    "\n",
    "test_loss, test_acc = call_model.evaluate(test_data, test_targets, verbose=0)\n",
    "print(\"Test loss: {:.3f}\\nTest accuracy: {:.2f}%\".format(test_loss, 100 * test_acc))"
   ]
  },
  {
   "cell_type": "markdown",
   "metadata": {
    "colab_type": "text",
    "id": "zqBMocM0-QPM"
   },
   "source": [
    "Congratulations for completing this programming assignment! In the next week of the course we will learn how to save and load pre-trained models."
   ]
  }
 ],
 "metadata": {
  "colab": {
   "collapsed_sections": [],
   "name": "Week 3 Programming Assignment.ipynb",
   "provenance": []
  },
  "coursera": {
   "course_slug": "tensor-flow-2-1",
   "graded_item_id": "mtZ4n",
   "launcher_item_id": "WphgK"
  },
  "kernelspec": {
   "display_name": "Python 3",
   "language": "python",
   "name": "python3"
  },
  "language_info": {
   "codemirror_mode": {
    "name": "ipython",
    "version": 3
   },
   "file_extension": ".py",
   "mimetype": "text/x-python",
   "name": "python",
   "nbconvert_exporter": "python",
   "pygments_lexer": "ipython3",
   "version": "3.7.7"
  }
 },
 "nbformat": 4,
 "nbformat_minor": 4
}
