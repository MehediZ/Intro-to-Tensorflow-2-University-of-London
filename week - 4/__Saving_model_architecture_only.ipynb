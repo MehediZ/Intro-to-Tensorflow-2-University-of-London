{
 "cells": [
  {
   "cell_type": "code",
   "execution_count": 1,
   "metadata": {},
   "outputs": [],
   "source": [
    "import tensorflow as tf\n",
    "from tensorflow.keras.models import Sequential\n",
    "from tensorflow.keras.layers import Dense\n",
    "import json\n",
    "import numpy as np\n",
    "\n",
    "physical_device = tf.config.experimental.list_physical_devices(\"GPU\")\n",
    "if len(physical_device) > 0:\n",
    "    tf.config.experimental.set_memory_growth(physical_device[0], True)"
   ]
  },
  {
   "cell_type": "code",
   "execution_count": 2,
   "metadata": {},
   "outputs": [],
   "source": [
    "model = Sequential([\n",
    "    Dense(units=32, input_shape=(32, 32, 3), activation='relu', name='dense_1'),\n",
    "    Dense(units=10, activation='softmax', name='dense_2')\n",
    "])"
   ]
  },
  {
   "cell_type": "code",
   "execution_count": 3,
   "metadata": {},
   "outputs": [
    {
     "name": "stdout",
     "output_type": "stream",
     "text": [
      "{'name': 'sequential', 'layers': [{'class_name': 'Dense', 'config': {'name': 'dense_1', 'trainable': True, 'batch_input_shape': (None, 32, 32, 3), 'dtype': 'float32', 'units': 32, 'activation': 'relu', 'use_bias': True, 'kernel_initializer': {'class_name': 'GlorotUniform', 'config': {'seed': None}}, 'bias_initializer': {'class_name': 'Zeros', 'config': {}}, 'kernel_regularizer': None, 'bias_regularizer': None, 'activity_regularizer': None, 'kernel_constraint': None, 'bias_constraint': None}}, {'class_name': 'Dense', 'config': {'name': 'dense_2', 'trainable': True, 'dtype': 'float32', 'units': 10, 'activation': 'softmax', 'use_bias': True, 'kernel_initializer': {'class_name': 'GlorotUniform', 'config': {'seed': None}}, 'bias_initializer': {'class_name': 'Zeros', 'config': {}}, 'kernel_regularizer': None, 'bias_regularizer': None, 'activity_regularizer': None, 'kernel_constraint': None, 'bias_constraint': None}}], 'build_input_shape': TensorShape([None, 32, 32, 3])}\n"
     ]
    }
   ],
   "source": [
    "config_dict = model.get_config()\n",
    "print(config_dict)"
   ]
  },
  {
   "cell_type": "code",
   "execution_count": 4,
   "metadata": {},
   "outputs": [],
   "source": [
    "model_same_config = tf.keras.Sequential.from_config(config_dict)"
   ]
  },
  {
   "cell_type": "code",
   "execution_count": 5,
   "metadata": {},
   "outputs": [
    {
     "name": "stdout",
     "output_type": "stream",
     "text": [
      "Same config False\n",
      "Same value for first weight matrix False\n"
     ]
    }
   ],
   "source": [
    "print('Same config',\n",
    "      model.get_config() == model_same_config.get_config())\n",
    "\n",
    "print('Same value for first weight matrix',\n",
    "      np.allclose(model.weights[0].numpy(), model_same_config.weights[0].numpy()))"
   ]
  },
  {
   "cell_type": "code",
   "execution_count": 9,
   "metadata": {},
   "outputs": [
    {
     "name": "stdout",
     "output_type": "stream",
     "text": [
      "('{\"class_name\": \"Sequential\", \"config\": {\"name\": \"sequential\", \"layers\": '\n",
      " '[{\"class_name\": \"Dense\", \"config\": {\"name\": \"dense_1\", \"trainable\": true, '\n",
      " '\"batch_input_shape\": [null, 32, 32, 3], \"dtype\": \"float32\", \"units\": 32, '\n",
      " '\"activation\": \"relu\", \"use_bias\": true, \"kernel_initializer\": {\"class_name\": '\n",
      " '\"GlorotUniform\", \"config\": {\"seed\": null}}, \"bias_initializer\": '\n",
      " '{\"class_name\": \"Zeros\", \"config\": {}}, \"kernel_regularizer\": null, '\n",
      " '\"bias_regularizer\": null, \"activity_regularizer\": null, \"kernel_constraint\": '\n",
      " 'null, \"bias_constraint\": null}}, {\"class_name\": \"Dense\", \"config\": {\"name\": '\n",
      " '\"dense_2\", \"trainable\": true, \"dtype\": \"float32\", \"units\": 10, \"activation\": '\n",
      " '\"softmax\", \"use_bias\": true, \"kernel_initializer\": {\"class_name\": '\n",
      " '\"GlorotUniform\", \"config\": {\"seed\": null}}, \"bias_initializer\": '\n",
      " '{\"class_name\": \"Zeros\", \"config\": {}}, \"kernel_regularizer\": null, '\n",
      " '\"bias_regularizer\": null, \"activity_regularizer\": null, \"kernel_constraint\": '\n",
      " 'null, \"bias_constraint\": null}}], \"build_input_shape\": [null, 32, 32, 3]}, '\n",
      " '\"keras_version\": \"2.3.0-tf\", \"backend\": \"tensorflow\"}')\n"
     ]
    }
   ],
   "source": [
    "from pprint import pprint\n",
    "json_string = model.to_json()\n",
    "pprint(json_string)"
   ]
  },
  {
   "cell_type": "code",
   "execution_count": 10,
   "metadata": {},
   "outputs": [],
   "source": [
    "with open('config.json', 'w') as f:\n",
    "    json.dump(json_string, f)"
   ]
  },
  {
   "cell_type": "code",
   "execution_count": null,
   "metadata": {},
   "outputs": [],
   "source": []
  }
 ],
 "metadata": {
  "kernelspec": {
   "display_name": "Python 3",
   "language": "python",
   "name": "python3"
  },
  "language_info": {
   "codemirror_mode": {
    "name": "ipython",
    "version": 3
   },
   "file_extension": ".py",
   "mimetype": "text/x-python",
   "name": "python",
   "nbconvert_exporter": "python",
   "pygments_lexer": "ipython3",
   "version": "3.7.7"
  }
 },
 "nbformat": 4,
 "nbformat_minor": 4
}
